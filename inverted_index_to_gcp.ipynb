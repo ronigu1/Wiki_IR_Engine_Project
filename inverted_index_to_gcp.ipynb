{
  "cells": [
    {
      "cell_type": "markdown",
      "id": "c418b178",
      "metadata": {
        "id": "c418b178"
      },
      "source": [
        "***Important*** DO NOT CLEAR THE OUTPUT OF THIS NOTEBOOK AFTER EXECUTION!!!"
      ]
    },
    {
      "cell_type": "code",
      "execution_count": null,
      "id": "e88187f3",
      "metadata": {
        "id": "e88187f3",
        "nbgrader": {
          "grade": false,
          "grade_id": "cell-Worker_Count",
          "locked": true,
          "schema_version": 3,
          "solution": false,
          "task": false
        },
        "outputId": "cf88b954-f39a-412a-d87e-660833e735b6"
      },
      "outputs": [
        {
          "name": "stdout",
          "output_type": "stream",
          "text": [
            "NAME       PLATFORM  WORKER_COUNT  PREEMPTIBLE_WORKER_COUNT  STATUS   ZONE           SCHEDULED_DELETE\r\n",
            "cluster20  GCE       4                                       RUNNING  us-central1-a\r\n"
          ]
        }
      ],
      "source": [
        "# if the following command generates an error, you probably didn't enable \n",
        "# the cluster security option \"Allow API access to all Google Cloud services\"\n",
        "# under Manage Security → Project Access when setting up the cluster\n",
        "!gcloud dataproc clusters list --region us-central1"
      ]
    },
    {
      "cell_type": "markdown",
      "id": "7c7e214b",
      "metadata": {
        "id": "7c7e214b"
      },
      "source": [
        "# Imports & Setup"
      ]
    },
    {
      "cell_type": "code",
      "execution_count": null,
      "id": "d1888e53",
      "metadata": {
        "id": "d1888e53",
        "nbgrader": {
          "grade": false,
          "grade_id": "cell-Setup",
          "locked": true,
          "schema_version": 3,
          "solution": false,
          "task": false
        },
        "outputId": "fc0e315d-21e9-411d-d69c-5b97e4e5d629"
      },
      "outputs": [
        {
          "name": "stdout",
          "output_type": "stream",
          "text": [
            "\u001b[33mWARNING: Running pip as the 'root' user can result in broken permissions and conflicting behaviour with the system package manager. It is recommended to use a virtual environment instead: https://pip.pypa.io/warnings/venv\u001b[0m\n",
            "\u001b[33mWARNING: Running pip as the 'root' user can result in broken permissions and conflicting behaviour with the system package manager. It is recommended to use a virtual environment instead: https://pip.pypa.io/warnings/venv\u001b[0m\n"
          ]
        }
      ],
      "source": [
        "!pip install -q google-cloud-storage==1.43.0\n",
        "!pip install -q graphframes"
      ]
    },
    {
      "cell_type": "code",
      "execution_count": null,
      "id": "a6cfcc35",
      "metadata": {
        "id": "a6cfcc35",
        "nbgrader": {
          "grade": false,
          "grade_id": "cell-Imports",
          "locked": true,
          "schema_version": 3,
          "solution": false,
          "task": false
        },
        "outputId": "a24aa24b-aa75-4823-83ca-1d7deef0f0de"
      },
      "outputs": [
        {
          "name": "stderr",
          "output_type": "stream",
          "text": [
            "[nltk_data] Downloading package stopwords to /root/nltk_data...\n",
            "[nltk_data]   Unzipping corpora/stopwords.zip.\n"
          ]
        },
        {
          "data": {
            "text/plain": [
              "True"
            ]
          },
          "execution_count": 7,
          "metadata": {},
          "output_type": "execute_result"
        }
      ],
      "source": [
        "import pyspark\n",
        "import sys\n",
        "from collections import Counter, OrderedDict, defaultdict\n",
        "import itertools\n",
        "from itertools import islice, count, groupby\n",
        "import pandas as pd\n",
        "import os\n",
        "import re\n",
        "from operator import itemgetter\n",
        "import nltk\n",
        "from nltk.stem.porter import *\n",
        "from nltk.corpus import stopwords\n",
        "from time import time\n",
        "from pathlib import Path\n",
        "import pickle\n",
        "import pandas as pd\n",
        "from google.cloud import storage\n",
        "\n",
        "import hashlib\n",
        "def _hash(s):\n",
        "    return hashlib.blake2b(bytes(s, encoding='utf8'), digest_size=5).hexdigest()\n",
        "\n",
        "nltk.download('stopwords')"
      ]
    },
    {
      "cell_type": "code",
      "execution_count": null,
      "id": "6a28260f",
      "metadata": {
        "id": "6a28260f",
        "nbgrader": {
          "grade": false,
          "grade_id": "cell-jar",
          "locked": true,
          "schema_version": 3,
          "solution": false,
          "task": false
        },
        "outputId": "8f93a7ec-71e0-49c1-fc81-9af385849a90"
      },
      "outputs": [
        {
          "name": "stdout",
          "output_type": "stream",
          "text": [
            "-rw-r--r-- 1 root root 247882 Dec  8 13:36 /usr/lib/spark/jars/graphframes-0.8.2-spark3.1-s_2.12.jar\r\n"
          ]
        }
      ],
      "source": [
        "# if nothing prints here you forgot to include the initialization script when starting the cluster\n",
        "!ls -l /usr/lib/spark/jars/graph*"
      ]
    },
    {
      "cell_type": "code",
      "execution_count": null,
      "id": "da6fce4d",
      "metadata": {
        "id": "da6fce4d",
        "nbgrader": {
          "grade": false,
          "grade_id": "cell-pyspark-import",
          "locked": true,
          "schema_version": 3,
          "solution": false,
          "task": false
        }
      },
      "outputs": [],
      "source": [
        "from pyspark.sql import *\n",
        "from pyspark.sql.functions import *\n",
        "from pyspark import SparkContext, SparkConf, SparkFiles\n",
        "from pyspark.sql import SQLContext\n",
        "from graphframes import *"
      ]
    },
    {
      "cell_type": "code",
      "execution_count": null,
      "id": "e112c869",
      "metadata": {
        "id": "e112c869",
        "nbgrader": {
          "grade": false,
          "grade_id": "cell-spark-version",
          "locked": true,
          "schema_version": 3,
          "solution": false,
          "task": false
        },
        "outputId": "07b4e22b-a252-42fb-fe46-d9050e4e7ca8",
        "scrolled": true
      },
      "outputs": [
        {
          "data": {
            "text/html": [
              "\n",
              "            <div>\n",
              "                <p><b>SparkSession - hive</b></p>\n",
              "                \n",
              "        <div>\n",
              "            <p><b>SparkContext</b></p>\n",
              "\n",
              "            <p><a href=\"http://cluster16-m.us-central1-a.c.ass3-334212.internal:34131\">Spark UI</a></p>\n",
              "\n",
              "            <dl>\n",
              "              <dt>Version</dt>\n",
              "                <dd><code>v3.1.2</code></dd>\n",
              "              <dt>Master</dt>\n",
              "                <dd><code>yarn</code></dd>\n",
              "              <dt>AppName</dt>\n",
              "                <dd><code>PySparkShell</code></dd>\n",
              "            </dl>\n",
              "        </div>\n",
              "        \n",
              "            </div>\n",
              "        "
            ],
            "text/plain": [
              "<pyspark.sql.session.SparkSession at 0x7fbc7b4c4460>"
            ]
          },
          "execution_count": 7,
          "metadata": {},
          "output_type": "execute_result"
        }
      ],
      "source": [
        "spark"
      ]
    },
    {
      "cell_type": "code",
      "execution_count": null,
      "id": "5f81f06b",
      "metadata": {
        "id": "5f81f06b",
        "nbgrader": {
          "grade": false,
          "grade_id": "cell-bucket_name",
          "locked": false,
          "schema_version": 3,
          "solution": true,
          "task": false
        },
        "outputId": "e45eda6d-826a-43ef-8b3a-91fee2a0a5cd"
      },
      "outputs": [
        {
          "name": "stdout",
          "output_type": "stream",
          "text": [
            "graphframes.sh\n"
          ]
        }
      ],
      "source": [
        "# Put your bucket name below and make sure you can access it without an error\n",
        "bucket_name = 'ass3-334212' \n",
        "client = storage.Client()\n",
        "blobs = client.list_blobs(bucket_name)\n",
        "for b in blobs:\n",
        "    print(b.name)"
      ]
    },
    {
      "cell_type": "markdown",
      "id": "97cdefa5",
      "metadata": {
        "id": "97cdefa5"
      },
      "source": [
        "***GCP setup is complete!*** If you got here without any errors you've earned 10 out of the 35 points of this part."
      ]
    },
    {
      "cell_type": "markdown",
      "id": "3a62751a",
      "metadata": {
        "id": "3a62751a"
      },
      "source": [
        "# Building an inverted index"
      ]
    },
    {
      "cell_type": "markdown",
      "id": "97b7e7cd",
      "metadata": {
        "id": "97b7e7cd"
      },
      "source": [
        "Here, we read the entire corpus to an rdd, directly from Google Storage Bucket and use your code from Colab to construct an inverted index."
      ]
    },
    {
      "cell_type": "code",
      "execution_count": null,
      "id": "b1197971",
      "metadata": {
        "id": "b1197971",
        "scrolled": false,
        "outputId": "ac58463d-5c83-4202-ae94-b77dbae03feb"
      },
      "outputs": [
        {
          "name": "stderr",
          "output_type": "stream",
          "text": [
            "                                                                                \r"
          ]
        }
      ],
      "source": [
        "full_path = \"gs://wikidata_preprocessed/*\"\n",
        "parquetFile = spark.read.parquet(full_path)\n",
        "doc_text_pairs = parquetFile.select(\"text\", \"id\").rdd"
      ]
    },
    {
      "cell_type": "markdown",
      "id": "fd0d0796",
      "metadata": {
        "id": "fd0d0796"
      },
      "source": [
        "We will count the number of pages to make sure we are looking at the entire corpus. The number of pages should be more than 6M"
      ]
    },
    {
      "cell_type": "code",
      "execution_count": null,
      "id": "c4b46843",
      "metadata": {
        "id": "c4b46843",
        "outputId": "1f12c53b-70d8-4ff4-d151-90ab22bc39e6"
      },
      "outputs": [
        {
          "name": "stderr",
          "output_type": "stream",
          "text": [
            "                                                                                \r"
          ]
        },
        {
          "data": {
            "text/plain": [
              "6348910"
            ]
          },
          "execution_count": 10,
          "metadata": {},
          "output_type": "execute_result"
        }
      ],
      "source": [
        "# Count number of wiki pages\n",
        "parquetFile.count()"
      ]
    },
    {
      "cell_type": "markdown",
      "id": "66ac0284",
      "metadata": {
        "id": "66ac0284"
      },
      "source": [
        "Let's import the inverted index module. Note that you need to use the staff-provided version called `inverted_index_gcp.py`, which contains helper functions to writing and reading the posting files similar to the Colab version, but with writing done to a Google Cloud Storage bucket."
      ]
    },
    {
      "cell_type": "code",
      "execution_count": null,
      "id": "dfe2793a",
      "metadata": {
        "id": "dfe2793a",
        "outputId": "327fe81b-80f4-4b3a-8894-e74720d92e35"
      },
      "outputs": [
        {
          "name": "stdout",
          "output_type": "stream",
          "text": [
            "inverted_index_gcp.py\r\n"
          ]
        }
      ],
      "source": [
        "# if nothing prints here you forgot to upload the file inverted_index_gcp.py to the home dir\n",
        "%cd -q /home/dataproc\n",
        "!ls inverted_index_gcp.py"
      ]
    },
    {
      "cell_type": "code",
      "execution_count": null,
      "id": "cec7675e",
      "metadata": {
        "id": "cec7675e",
        "scrolled": true
      },
      "outputs": [],
      "source": [
        "# adding our python module to the cluster\n",
        "sc.addFile(\"/home/dataproc/inverted_index_gcp.py\")\n",
        "sys.path.insert(0,SparkFiles.getRootDirectory())"
      ]
    },
    {
      "cell_type": "code",
      "execution_count": null,
      "id": "e3b4819a",
      "metadata": {
        "id": "e3b4819a"
      },
      "outputs": [],
      "source": [
        "from inverted_index_gcp import InvertedIndex"
      ]
    },
    {
      "cell_type": "markdown",
      "id": "e04d2cd9",
      "metadata": {
        "id": "e04d2cd9"
      },
      "source": [
        "**YOUR TASK (10 POINTS)**: Use your implementation of `word_count`, `reduce_word_counts`, `calculate_df`, and `partition_postings_and_write` functions from Colab to build an inverted index for all of English Wikipedia in under 2 hours.\n",
        "\n",
        "A few notes: \n",
        "1. The number of corpus stopwords below is a bit bigger than the colab version since we are working on the whole corpus and not just on one file.\n",
        "2. You need to slightly modify your implementation of  `partition_postings_and_write` because the signature of `InvertedIndex.write_a_posting_list` has changed and now includes an additional argument called `bucket_name` for the target bucket. See the module for more details.\n",
        "3. You are not allowed to change any of the code not coming from Colab. "
      ]
    },
    {
      "cell_type": "code",
      "execution_count": null,
      "id": "d4644be9",
      "metadata": {
        "id": "d4644be9",
        "nbgrader": {
          "grade": false,
          "grade_id": "cell-token2bucket",
          "locked": false,
          "schema_version": 3,
          "solution": true,
          "task": false
        }
      },
      "outputs": [],
      "source": [
        "english_stopwords = frozenset(stopwords.words('english'))\n",
        "corpus_stopwords = [\"category\", \"references\", \"also\", \"external\", \"links\", \n",
        "                    \"may\", \"first\", \"see\", \"history\", \"people\", \"one\", \"two\", \n",
        "                    \"part\", \"thumb\", \"including\", \"second\", \"following\", \n",
        "                    \"many\", \"however\", \"would\", \"became\"]\n",
        "\n",
        "all_stopwords = english_stopwords.union(corpus_stopwords)\n",
        "RE_WORD = re.compile(r\"\"\"[\\#\\@\\w](['\\-]?\\w){2,24}\"\"\", re.UNICODE)\n",
        "\n",
        "NUM_BUCKETS = 124\n",
        "def token2bucket_id(token):\n",
        "  return int(_hash(token),16) % NUM_BUCKETS\n",
        "\n",
        "# PLACE YOUR CODE HERE\n",
        "def word_count(text, id):\n",
        "  ''' Count the frequency of each word in `text` (tf) that is not included in \n",
        "  `all_stopwords` and return entries that will go into our posting lists. \n",
        "  Parameters:\n",
        "  -----------\n",
        "    text: str\n",
        "      Text of one document\n",
        "    id: int\n",
        "      Document id\n",
        "  Returns:\n",
        "  --------\n",
        "    List of tuples\n",
        "      A list of (token, (doc_id, tf)) pairs \n",
        "      for example: [(\"Anarchism\", (12, 5)), ...]\n",
        "  '''\n",
        "  tokens = [token.group() for token in RE_WORD.finditer(text.lower())]\n",
        "  # YOUR CODE HERE\n",
        "  freqDic = {}\n",
        "  for item in tokens:  \n",
        "    if item not in all_stopwords:\n",
        "      if (item in freqDic):\n",
        "        freqDic[item] += 1\n",
        "      else:\n",
        "        freqDic[item] = 1\n",
        "  list1=[]\n",
        "  for item1 in freqDic:\n",
        "    list1.append((item1,(id,freqDic[item1])))\n",
        "  return list1\n",
        "\n",
        "def reduce_word_counts(unsorted_pl):\n",
        "  ''' Returns a sorted posting list by wiki_id.\n",
        "  Parameters:\n",
        "  -----------\n",
        "    unsorted_pl: list of tuples\n",
        "      A list of (wiki_id, tf) tuples \n",
        "  Returns:\n",
        "  --------\n",
        "    list of tuples\n",
        "      A sorted posting list.\n",
        "  '''\n",
        "  # YOUR CODE HERE\n",
        "  return sorted(unsorted_pl,key = lambda x:x[0])\n",
        "\n",
        "def calculate_df(postings):\n",
        "  ''' Takes a posting list RDD and calculate the df for each token.\n",
        "  Parameters:\n",
        "  -----------\n",
        "    postings: RDD\n",
        "      An RDD where each element is a (token, posting_list) pair.\n",
        "  Returns:\n",
        "  --------\n",
        "    RDD\n",
        "      An RDD where each element is a (token, df) pair.\n",
        "  '''\n",
        "  # YOUR CODE HERE\n",
        "  return postings.map(lambda x:(x[0],len(x[1])))\n",
        "\n",
        "def partition_postings_and_write(postings):\n",
        "  ''' A function that partitions the posting lists into buckets, writes out \n",
        "  all posting lists in a bucket to disk, and returns the posting locations for \n",
        "  each bucket. Partitioning should be done through the use of `token2bucket` \n",
        "  above. Writing to disk should use the function  `write_a_posting_list`, a \n",
        "  static method implemented in inverted_index_colab.py under the InvertedIndex \n",
        "  class. \n",
        "  Parameters:\n",
        "  -----------\n",
        "    postings: RDD\n",
        "      An RDD where each item is a (w, posting_list) pair.\n",
        "  Returns:\n",
        "  --------\n",
        "    RDD\n",
        "      An RDD where each item is a posting locations dictionary for a bucket. The\n",
        "      posting locations maintain a list for each word of file locations and \n",
        "      offsets its posting list was written to. See `write_a_posting_list` for \n",
        "      more details.\n",
        "  '''\n",
        "  # YOUR CODE HERE\n",
        "  key_duplicate = postings.map(lambda x: (token2bucket_id(x[0]),[x]))\n",
        "  key_withot_duplicate = key_duplicate.reduceByKey(lambda a,b:a+b)\n",
        "  calc =key_withot_duplicate.map(lambda x:InvertedIndex.write_a_posting_list(x,bucket_name))\n",
        "  return calc\n",
        "\n"
      ]
    },
    {
      "cell_type": "code",
      "execution_count": null,
      "id": "65a05d19",
      "metadata": {
        "id": "65a05d19",
        "nbgrader": {
          "grade": false,
          "grade_id": "cell-index_construction",
          "locked": false,
          "schema_version": 3,
          "solution": true,
          "task": false
        },
        "outputId": "9d50a870-e066-45c7-85f9-a995b32412d7"
      },
      "outputs": [
        {
          "name": "stderr",
          "output_type": "stream",
          "text": [
            "                                                                                \r"
          ]
        }
      ],
      "source": [
        "# time the index creation time\n",
        "t_start = time()\n",
        "# word counts map\n",
        "word_counts = doc_text_pairs.flatMap(lambda x: word_count(x[0], x[1]))\n",
        "postings = word_counts.groupByKey().mapValues(reduce_word_counts)\n",
        "# filtering postings and calculate df\n",
        "postings_filtered = postings.filter(lambda x: len(x[1])>50)\n",
        "w2df = calculate_df(postings_filtered)\n",
        "w2df_dict = w2df.collectAsMap()\n",
        "# partition posting lists and write out\n",
        "_ = partition_postings_and_write(postings_filtered).collect()\n",
        "index_const_time = time() - t_start"
      ]
    },
    {
      "cell_type": "code",
      "execution_count": null,
      "id": "2fa55d06",
      "metadata": {
        "id": "2fa55d06",
        "nbgrader": {
          "grade": true,
          "grade_id": "cell-index_const_time",
          "locked": true,
          "points": 10,
          "schema_version": 3,
          "solution": false,
          "task": false
        }
      },
      "outputs": [],
      "source": [
        "# test index construction time\n",
        "assert index_const_time < 60*120"
      ]
    },
    {
      "cell_type": "code",
      "execution_count": null,
      "id": "c16a72a9",
      "metadata": {
        "id": "c16a72a9",
        "nbgrader": {
          "grade": true,
          "grade_id": "collect-posting",
          "locked": true,
          "points": 0,
          "schema_version": 3,
          "solution": false,
          "task": false
        }
      },
      "outputs": [],
      "source": [
        "# collect all posting lists locations into one super-set\n",
        "super_posting_locs = defaultdict(list)\n",
        "for blob in client.list_blobs(bucket_name, prefix='postings_gcp'):\n",
        "  if not blob.name.endswith(\"pickle\"):\n",
        "    continue\n",
        "  with blob.open(\"rb\") as f:\n",
        "    posting_locs = pickle.load(f)\n",
        "    for k, v in posting_locs.items():\n",
        "      super_posting_locs[k].extend(v)"
      ]
    },
    {
      "cell_type": "markdown",
      "id": "ad9641ef",
      "metadata": {
        "id": "ad9641ef"
      },
      "source": [
        "Putting it all together"
      ]
    },
    {
      "cell_type": "code",
      "execution_count": null,
      "id": "0788f832",
      "metadata": {
        "id": "0788f832",
        "outputId": "6452213d-d5fd-4d55-fc02-48a4b9c2207b"
      },
      "outputs": [
        {
          "name": "stdout",
          "output_type": "stream",
          "text": [
            "Copying file://index.pkl [Content-Type=application/octet-stream]...\n",
            "/ [1 files][ 18.4 MiB/ 18.4 MiB]                                                \n",
            "Operation completed over 1 objects/18.4 MiB.                                     \n"
          ]
        }
      ],
      "source": [
        "# Create inverted index instance\n",
        "inverted = InvertedIndex()\n",
        "# Adding the posting locations dictionary to the inverted index\n",
        "inverted.posting_locs = super_posting_locs\n",
        "# Add the token - df dictionary to the inverted index\n",
        "inverted.df = w2df_dict\n",
        "# write the global stats out\n",
        "inverted.write_index('.', 'index')\n",
        "# upload to gs\n",
        "index_src = \"index.pkl\"\n",
        "index_dst = f'gs://{bucket_name}/postings_gcp/{index_src}'\n",
        "!gsutil cp $index_src $index_dst"
      ]
    },
    {
      "cell_type": "code",
      "execution_count": null,
      "id": "a34b0f51",
      "metadata": {
        "id": "a34b0f51",
        "nbgrader": {
          "grade": false,
          "grade_id": "cell-index_dst_size",
          "locked": true,
          "schema_version": 3,
          "solution": false,
          "task": false
        },
        "outputId": "32c3c237-9d06-41d2-d642-6fa64f5ce693"
      },
      "outputs": [
        {
          "name": "stdout",
          "output_type": "stream",
          "text": [
            " 18.45 MiB  2021-12-05T18:05:08Z  gs://ass3-334212/postings_gcp/index.pkl\r\n",
            "TOTAL: 1 objects, 19343871 bytes (18.45 MiB)\r\n"
          ]
        }
      ],
      "source": [
        "!gsutil ls -lh $index_dst"
      ]
    },
    {
      "cell_type": "markdown",
      "id": "b24a7864",
      "metadata": {
        "id": "b24a7864",
        "nbgrader": {
          "grade": false,
          "grade_id": "cell-2a6d655c112e79c5",
          "locked": true,
          "schema_version": 3,
          "solution": false,
          "task": false
        }
      },
      "source": [
        "# PageRank"
      ]
    },
    {
      "cell_type": "markdown",
      "id": "75a036cb",
      "metadata": {
        "id": "75a036cb",
        "nbgrader": {
          "grade": false,
          "grade_id": "cell-2fee4bc8d83c1e2a",
          "locked": true,
          "schema_version": 3,
          "solution": false,
          "task": false
        }
      },
      "source": [
        "**YOUR TASK (10 POINTS):** Compute PageRank for the entire English Wikipedia. Use your implementation for `generate_graph` function from Colab below."
      ]
    },
    {
      "cell_type": "code",
      "execution_count": null,
      "id": "afcfcfdd",
      "metadata": {
        "id": "afcfcfdd"
      },
      "outputs": [],
      "source": [
        "# Put your `generate_graph` function here\n",
        "\n",
        "def generate_graph(pages):\n",
        "  ''' Compute the directed graph generated by wiki links.\n",
        "  Parameters:\n",
        "  -----------\n",
        "    pages: RDD\n",
        "      An RDD where each row consists of one wikipedia articles with 'id' and \n",
        "      'anchor_text'.\n",
        "  Returns:\n",
        "  --------\n",
        "    edges: RDD\n",
        "      An RDD where each row represents an edge in the directed graph created by\n",
        "      the wikipedia links. The first entry should the source page id and the \n",
        "      second entry is the destination page id. No duplicates should be present. \n",
        "    vertices: RDD\n",
        "      An RDD where each row represents a vetrix (node) in the directed graph \n",
        "      created by the wikipedia links. No duplicates should be present. \n",
        "  '''\n",
        "  # YOUR CODE HERE\n",
        "  temp_edges = pages.map(lambda x:[(x[0],y[0]) for y in x[1]])\n",
        "  edges = temp_edges.flatMap(lambda x: x).distinct()\n",
        "\n",
        "  temp_vertices = edges.map(lambda x: [(x[0],x[0]),(x[1],x[1])])\n",
        "  vertices = temp_vertices.flatMap(lambda x: x).distinct()\n",
        "\n",
        "  return edges, vertices"
      ]
    },
    {
      "cell_type": "code",
      "execution_count": null,
      "id": "027ba6fe",
      "metadata": {
        "id": "027ba6fe",
        "nbgrader": {
          "grade": false,
          "grade_id": "cell-PageRank",
          "locked": false,
          "schema_version": 3,
          "solution": true,
          "task": false
        },
        "outputId": "c959bccb-3e89-4494-9cb3-4f59ee0ec2e2"
      },
      "outputs": [
        {
          "name": "stderr",
          "output_type": "stream",
          "text": [
            "[Stage 340:====================================================>(198 + 2) / 200]\r"
          ]
        },
        {
          "name": "stdout",
          "output_type": "stream",
          "text": [
            "+-------+------------------+\n",
            "|     id|          pagerank|\n",
            "+-------+------------------+\n",
            "|3434750| 9913.728782160775|\n",
            "|  10568| 5385.349263642037|\n",
            "|  32927|5282.0815757652745|\n",
            "|  30680| 5128.233709604122|\n",
            "|5843419| 4957.567686263868|\n",
            "|  68253| 4769.278265355162|\n",
            "|  31717| 4486.350180548311|\n",
            "|  11867|4146.4146509127695|\n",
            "|  14533|3996.4664408855006|\n",
            "| 645042|3531.6270898037446|\n",
            "|  17867| 3246.098390604142|\n",
            "|5042916| 2991.945739166178|\n",
            "|4689264| 2982.324883041747|\n",
            "|  14532|2934.7468292031704|\n",
            "|  25391|2903.5462235133987|\n",
            "|   5405| 2891.416329154636|\n",
            "|4764461|2834.3669873326608|\n",
            "|  15573|2783.8651181588366|\n",
            "|   9316|2782.0396464137702|\n",
            "|8569916| 2775.286191840016|\n",
            "+-------+------------------+\n",
            "only showing top 20 rows\n",
            "\n"
          ]
        },
        {
          "name": "stderr",
          "output_type": "stream",
          "text": [
            "                                                                                \r"
          ]
        }
      ],
      "source": [
        "t_start = time()\n",
        "pages_links = spark.read.parquet(\"gs://wikidata_preprocessed/*\").select(\"id\", \"anchor_text\").rdd\n",
        "# construct the graph \n",
        "edges, vertices = generate_graph(pages_links)\n",
        "# compute PageRank\n",
        "edgesDF = edges.toDF(['src', 'dst']).repartition(124, 'src')\n",
        "verticesDF = vertices.toDF(['id']).repartition(124, 'id')\n",
        "g = GraphFrame(verticesDF, edgesDF)\n",
        "pr_results = g.pageRank(resetProbability=0.15, maxIter=6)\n",
        "pr = pr_results.vertices.select(\"id\", \"pagerank\")\n",
        "pr = pr.sort(col('pagerank').desc())\n",
        "pr.repartition(1).write.csv(f'gs://{bucket_name}/pr', compression=\"gzip\")\n",
        "pr_time = time() - t_start\n",
        "pr.show()"
      ]
    },
    {
      "cell_type": "code",
      "execution_count": null,
      "id": "08b2fb4e",
      "metadata": {
        "id": "08b2fb4e",
        "nbgrader": {
          "grade": true,
          "grade_id": "cell-PageRank_time",
          "locked": true,
          "points": 10,
          "schema_version": 3,
          "solution": false,
          "task": false
        }
      },
      "outputs": [],
      "source": [
        "# test that PageRank computaion took less than 1 hour\n",
        "assert pr_time < 60*60"
      ]
    },
    {
      "cell_type": "markdown",
      "id": "79737977",
      "metadata": {
        "id": "79737977"
      },
      "source": [
        "# Reporting"
      ]
    },
    {
      "cell_type": "markdown",
      "id": "4f0ed59a",
      "metadata": {
        "id": "4f0ed59a"
      },
      "source": [
        "**YOUR TASK (5 points):** execute and complete the following lines to complete \n",
        "the reporting requirements for assignment #3. "
      ]
    },
    {
      "cell_type": "code",
      "execution_count": null,
      "id": "662634cb",
      "metadata": {
        "id": "662634cb",
        "nbgrader": {
          "grade": false,
          "grade_id": "cell-size_ofi_input_data",
          "locked": true,
          "schema_version": 3,
          "solution": false,
          "task": false
        },
        "outputId": "54595c29-4ae3-4b78-86d0-d8457ae9c150"
      },
      "outputs": [
        {
          "name": "stdout",
          "output_type": "stream",
          "text": [
            "14.28 GiB    gs://wikidata_preprocessed\r\n"
          ]
        }
      ],
      "source": [
        "# size of input data\n",
        "!gsutil du -sh \"gs://wikidata_preprocessed/\""
      ]
    },
    {
      "cell_type": "code",
      "execution_count": null,
      "id": "a4bd4957",
      "metadata": {
        "id": "a4bd4957",
        "nbgrader": {
          "grade": false,
          "grade_id": "cell-size_of_index_data",
          "locked": true,
          "schema_version": 3,
          "solution": false,
          "task": false
        },
        "outputId": "44d9721a-1cd7-4e59-9f78-5439864cfdad"
      },
      "outputs": [
        {
          "name": "stdout",
          "output_type": "stream",
          "text": [
            "5.91 GiB     gs://ass3-334212/postings_gcp\r\n"
          ]
        }
      ],
      "source": [
        "# size of index data\n",
        "index_dst = f'gs://{bucket_name}/postings_gcp/'\n",
        "!gsutil du -sh \"$index_dst\""
      ]
    },
    {
      "cell_type": "code",
      "execution_count": null,
      "id": "e63e6a84",
      "metadata": {
        "id": "e63e6a84",
        "nbgrader": {
          "grade": false,
          "grade_id": "cell-credits",
          "locked": true,
          "schema_version": 3,
          "solution": false,
          "task": false
        },
        "outputId": "1eb81510-d0aa-4045-df0b-953ea485d1ea"
      },
      "outputs": [
        {
          "name": "stdout",
          "output_type": "stream",
          "text": [
            "I used 23.68 USD credit during the course of this assignment\n"
          ]
        }
      ],
      "source": [
        "# How many USD credits did you use in GCP during the course of this assignment?\n",
        "cost = 23.68\n",
        "print(f'I used {cost} USD credit during the course of this assignment')"
      ]
    },
    {
      "cell_type": "markdown",
      "id": "39612d96",
      "metadata": {
        "id": "39612d96"
      },
      "source": [
        "**Bonus (10 points)** if you implement PageRank in pure PySpark, i.e. without using the GraphFrames package, AND manage to complete 10 iterations of your algorithm on the entire English Wikipedia in less than an hour. \n"
      ]
    },
    {
      "cell_type": "code",
      "execution_count": null,
      "id": "3c47d6a1",
      "metadata": {
        "nbgrader": {
          "grade": false,
          "grade_id": "cell-PageRank_Bonus",
          "locked": false,
          "schema_version": 3,
          "solution": true,
          "task": false
        },
        "id": "3c47d6a1"
      },
      "outputs": [],
      "source": [
        "#If you have decided to do the bonus task - please copy the code here \n",
        "\n",
        "bonus_flag = False # Turn flag on (True) if you have implemented this part\n",
        "\n",
        "t_start = time()\n",
        "pr_time_Bonus = time() - t_start\n"
      ]
    },
    {
      "cell_type": "code",
      "execution_count": null,
      "id": "1b381a5c",
      "metadata": {
        "nbgrader": {
          "grade": true,
          "grade_id": "cell-PageRank_Bonus-time",
          "locked": true,
          "points": 10,
          "schema_version": 3,
          "solution": false,
          "task": false
        },
        "id": "1b381a5c"
      },
      "outputs": [],
      "source": [
        "# Note:test that PageRank computaion took less than 1 hour\n",
        "assert pr_time_Bonus < 60*60 and bonus_flag"
      ]
    }
  ],
  "metadata": {
    "celltoolbar": "Create Assignment",
    "colab": {
      "provenance": [],
      "toc_visible": true
    },
    "kernelspec": {
      "display_name": "PySpark",
      "language": "python",
      "name": "pyspark"
    },
    "language_info": {
      "codemirror_mode": {
        "name": "ipython",
        "version": 3
      },
      "file_extension": ".py",
      "mimetype": "text/x-python",
      "name": "python",
      "nbconvert_exporter": "python",
      "pygments_lexer": "ipython3",
      "version": "3.8.12"
    }
  },
  "nbformat": 4,
  "nbformat_minor": 5
}